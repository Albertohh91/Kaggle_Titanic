{
 "cells": [
  {
   "cell_type": "markdown",
   "metadata": {},
   "source": [
    "# 1. Import packages and load data"
   ]
  },
  {
   "cell_type": "code",
   "execution_count": 1,
   "metadata": {},
   "outputs": [
    {
     "data": {
      "application/javascript": [
       "IPython.OutputArea.prototype._should_scroll = function(lines) {\n",
       "    return false;\n",
       "} //disable auto-scrolling for long outputs\n"
      ],
      "text/plain": [
       "<IPython.core.display.Javascript object>"
      ]
     },
     "metadata": {},
     "output_type": "display_data"
    }
   ],
   "source": [
    "%%javascript\n",
    "IPython.OutputArea.prototype._should_scroll = function(lines) {\n",
    "    return false;\n",
    "} //disable auto-scrolling for long outputs"
   ]
  },
  {
   "cell_type": "code",
   "execution_count": 2,
   "metadata": {},
   "outputs": [],
   "source": [
    "# Import packages\n",
    "import numpy as np\n",
    "import pandas as pd\n",
    "import matplotlib.pyplot as plt\n",
    "import seaborn as sns\n",
    "from pprint import pprint as pp\n",
    "\n",
    "from sklearn import preprocessing\n",
    "from sklearn.linear_model import LinearRegression\n",
    "from sklearn.ensemble import IsolationForest\n",
    "from sklearn.ensemble import RandomForestClassifier\n",
    "from sklearn.model_selection import StratifiedKFold\n",
    "from sklearn.model_selection import RandomizedSearchCV\n",
    "from sklearn.model_selection import GridSearchCV\n",
    "from sklearn.model_selection import learning_curve\n",
    "\n",
    "\n",
    "# Load data\n",
    "train = pd.read_csv('train.csv')\n",
    "test = pd.read_csv('test.csv')\n",
    "data = pd.concat(objs=[train, test], axis=0, ignore_index=True) # full data set will be useful to tranform variables in same\n",
    "                                                                   # way and looking at trends"
   ]
  },
  {
   "cell_type": "markdown",
   "metadata": {},
   "source": [
    "# 2. Exploratory data analysis\n",
    "\n",
    "## 2.1 Dataset information\n",
    "\n",
    "We are dealing with data from the passengers aboard the Titanic. The aim is to build a model based on train data to predict the survival of the passenger in the test set."
   ]
  },
  {
   "cell_type": "code",
   "execution_count": 3,
   "metadata": {},
   "outputs": [
    {
     "name": "stdout",
     "output_type": "stream",
     "text": [
      "(891, 12)\n",
      "(418, 11)\n"
     ]
    }
   ],
   "source": [
    "print(train.shape)\n",
    "print(test.shape)"
   ]
  },
  {
   "cell_type": "markdown",
   "metadata": {},
   "source": [
    "This a sizeable amount of data points close to the total amount of passengers aboard (1317). Let's look at the variables involved:"
   ]
  },
  {
   "cell_type": "code",
   "execution_count": 4,
   "metadata": {},
   "outputs": [
    {
     "name": "stdout",
     "output_type": "stream",
     "text": [
      "<class 'pandas.core.frame.DataFrame'>\n",
      "RangeIndex: 891 entries, 0 to 890\n",
      "Data columns (total 12 columns):\n",
      " #   Column       Non-Null Count  Dtype  \n",
      "---  ------       --------------  -----  \n",
      " 0   PassengerId  891 non-null    int64  \n",
      " 1   Survived     891 non-null    int64  \n",
      " 2   Pclass       891 non-null    int64  \n",
      " 3   Name         891 non-null    object \n",
      " 4   Sex          891 non-null    object \n",
      " 5   Age          714 non-null    float64\n",
      " 6   SibSp        891 non-null    int64  \n",
      " 7   Parch        891 non-null    int64  \n",
      " 8   Ticket       891 non-null    object \n",
      " 9   Fare         891 non-null    float64\n",
      " 10  Cabin        204 non-null    object \n",
      " 11  Embarked     889 non-null    object \n",
      "dtypes: float64(2), int64(5), object(5)\n",
      "memory usage: 83.7+ KB\n",
      "None\n",
      "<class 'pandas.core.frame.DataFrame'>\n",
      "RangeIndex: 418 entries, 0 to 417\n",
      "Data columns (total 11 columns):\n",
      " #   Column       Non-Null Count  Dtype  \n",
      "---  ------       --------------  -----  \n",
      " 0   PassengerId  418 non-null    int64  \n",
      " 1   Pclass       418 non-null    int64  \n",
      " 2   Name         418 non-null    object \n",
      " 3   Sex          418 non-null    object \n",
      " 4   Age          332 non-null    float64\n",
      " 5   SibSp        418 non-null    int64  \n",
      " 6   Parch        418 non-null    int64  \n",
      " 7   Ticket       418 non-null    object \n",
      " 8   Fare         417 non-null    float64\n",
      " 9   Cabin        91 non-null     object \n",
      " 10  Embarked     418 non-null    object \n",
      "dtypes: float64(2), int64(4), object(5)\n",
      "memory usage: 36.0+ KB\n",
      "None\n"
     ]
    }
   ],
   "source": [
    "print(train.info())\n",
    "print(test.info())"
   ]
  },
  {
   "cell_type": "markdown",
   "metadata": {},
   "source": [
    "The following variables are provided, these might be selected/combined as features of our model later on:\n",
    "* PassengerId is the unique identifier for each passenger/row.\n",
    "* Survived is our target variable, 1 if the passenger survived.\n",
    "* Pclass is the passenger class representing socio-economic status (highest 1st class-1, middle 2nd class-2, low 3rd class-3).\n",
    "* Name is the full name with title.\n",
    "* Sex can be 'female' or 'male'.\n",
    "* Age is the numeric age.\n",
    "* SibSp is the number of siblings and/or spouses onboard.\n",
    "* Parch is the number of parents and/or children onboard.\n",
    "* Ticket is the ticket identifier, prefix and number.\n",
    "* Fare is the cost of the ticket.\n",
    "* Cabin is the cabin of the passenger.\n",
    "* Embarked is the port in which passenger embarked with 3 unique values ('S'-Southampton, 'C'-Cherbourg, 'Q'-Queenstown).\n",
    "\n",
    "Ignoring PassengerId, which is not useful to explain survival, we have:\n",
    "* 2 numerical continuous variables: Age and Fare.\n",
    "* 2 numerical discrete variables: Sibsp and Parch.\n",
    "* 4 categorical variables: Survived, Name, Sex, Ticket, Cabin and Embarked.\n",
    "* 1 ordinal categorical variable: Pclass (1 being highest).\n",
    "\n",
    "Of these, the following have missing values:\n",
    "* Age: 177 in train and 86 in test.\n",
    "* Fare: 1 in test.\n",
    "* Cabin: 687 in train and 327 in test.\n",
    "* Embarked: 2 in train."
   ]
  },
  {
   "cell_type": "markdown",
   "metadata": {},
   "source": [
    "## 2.2 Univariate analysis\n",
    "We now look at how each variable is distributed individually.\n",
    "### 2.2.1 Numerical variables"
   ]
  },
  {
   "cell_type": "code",
   "execution_count": 5,
   "metadata": {},
   "outputs": [
    {
     "data": {
      "image/png": "[encoded data removed]",
      "text/plain": [
       "<Figure size 1152x288 with 4 Axes>"
      ]
     },
     "metadata": {
      "needs_background": "light"
     },
     "output_type": "display_data"
    }
   ],
   "source": [
    "labels = ['all', 'train', 'test']\n",
    "to_plot = ['Age', 'Fare', 'SibSp', 'Parch']\n",
    "plt.figure(figsize=(16, 4))\n",
    "plt_id = 141\n",
    "\n",
    "for ii in range(len(to_plot)):\n",
    "    plt.subplot(plt_id)\n",
    "    sns.distplot(data[to_plot[ii]], kde=False, label='all')\n",
    "    sns.distplot(train[to_plot[ii]], kde=False, label='train')\n",
    "    sns.distplot(test[to_plot[ii]], kde=False, label='test')\n",
    "\n",
    "    if ii == 0:\n",
    "        plt.legend()\n",
    "\n",
    "    plt_id += 1\n",
    "\n",
    "plt.show()"
   ]
  },
  {
   "cell_type": "markdown",
   "metadata": {},
   "source": [
    "We can observe that:\n",
    "* Age shows a bimodal distribution skewed to the left, but the range of values seems to represent well its variation. The test set as it does not have the peak between 0-5yrs.\n",
    "* Fare shows a heavily skewed unimodal distribution, with really big outliers in all data sets. It might be worth transforming the range of values.\n",
    "* SibSp and Parch are sparse and mainly have values between 0 and 2, so we may want to group categories to avoid sparsity."
   ]
  },
  {
   "cell_type": "markdown",
   "metadata": {},
   "source": [
    "### 2.2.2 Categorical variables"
   ]
  },
  {
   "cell_type": "code",
   "execution_count": 6,
   "metadata": {},
   "outputs": [
    {
     "data": {
      "text/plain": [
       "PassengerId    1309\n",
       "Survived          2\n",
       "Pclass            3\n",
       "Name           1307\n",
       "Sex               2\n",
       "Age              98\n",
       "SibSp             7\n",
       "Parch             8\n",
       "Ticket          929\n",
       "Fare            281\n",
       "Cabin           186\n",
       "Embarked          3\n",
       "dtype: int64"
      ]
     },
     "execution_count": 6,
     "metadata": {},
     "output_type": "execute_result"
    }
   ],
   "source": [
    "data.nunique()"
   ]
  },
  {
   "cell_type": "markdown",
   "metadata": {},
   "source": [
    "Name, Ticket and Cabin are mostly unique or missing values, so they are not useful features as such. We would need to investigate them further to see if we can derive new features from them."
   ]
  },
  {
   "cell_type": "code",
   "execution_count": 7,
   "metadata": {
    "scrolled": true
   },
   "outputs": [
    {
     "data": {
      "image/png": "[encoded data removed]",
      "text/plain": [
       "<Figure size 1152x288 with 4 Axes>"
      ]
     },
     "metadata": {
      "needs_background": "light"
     },
     "output_type": "display_data"
    }
   ],
   "source": [
    "to_plot = ['Survived', 'Sex', 'Embarked', 'Pclass']\n",
    "plt.figure(figsize=(16, 4))\n",
    "plt_id = 141\n",
    "\n",
    "for ii in range(len(to_plot)):\n",
    "    plt.subplot(plt_id)\n",
    "    to_plot_ii = to_plot[ii]\n",
    "\n",
    "    if to_plot_ii == 'Survived': # Survived only in train set\n",
    "        sns.countplot(train[to_plot_ii], label='train', color='orange', order=train[to_plot_ii].value_counts().index)\n",
    "    else:\n",
    "        sns.countplot(data[to_plot_ii], label='all', color='blue', order=data[to_plot_ii].value_counts().index)\n",
    "        sns.countplot(train[to_plot_ii], label='train', color='orange', order=train[to_plot_ii].value_counts().index)\n",
    "        sns.countplot(test[to_plot_ii], label='test', color='green', order=test[to_plot_ii].value_counts().index)\n",
    "\n",
    "    if ii==1:\n",
    "        plt.legend()\n",
    "\n",
    "    plt_id += 1\n",
    "\n",
    "plt.show()"
   ]
  },
  {
   "cell_type": "markdown",
   "metadata": {},
   "source": [
    "* Test set distributions are more equally distributed but in general are similar to the train set, meaning that these features will generalise well.\n",
    "* Most passengers in train data died, in line with official figures of 68% survival rate.\n",
    "* We have more male than female in all data sets.\n",
    "* Most passengers embarked in Southampton and were 3rd class."
   ]
  },
  {
   "cell_type": "markdown",
   "metadata": {},
   "source": [
    "## 2.2 Bivariate analysis"
   ]
  },
  {
   "cell_type": "markdown",
   "metadata": {},
   "source": [
    "### 2.2.1 General correlations"
   ]
  },
  {
   "cell_type": "code",
   "execution_count": 8,
   "metadata": {},
   "outputs": [
    {
     "data": {
      "image/png": "[encoded data removed]",
      "text/plain": [
       "<Figure size 720x576 with 2 Axes>"
      ]
     },
     "metadata": {
      "needs_background": "light"
     },
     "output_type": "display_data"
    }
   ],
   "source": [
    "dummies = pd.get_dummies(data, columns=['Sex', 'Embarked']) # convert strings to indicators (only numerics for correlation)\n",
    "dummies = dummies.drop(['PassengerId', 'Name', 'Ticket', 'Cabin'], axis=1) # ignore variables not useful without transformations\n",
    "\n",
    "corr = dummies.corr()\n",
    "plt.figure(figsize=(10,8))\n",
    "sns.heatmap(corr,\n",
    "            vmin=-1,\n",
    "            cmap='coolwarm',\n",
    "            annot=True,\n",
    "            mask=np.tri(corr.shape[0], k=0))\n",
    "plt.show()"
   ]
  },
  {
   "cell_type": "markdown",
   "metadata": {},
   "source": [
    "* Many variables are correlated (>0.1) between each other, so we may think of combining them.\n",
    "* Survived has a strong correlation with Sex (female likelier to survive), Embarked (Cherbourg likelier to survive, Queensland less), Pclass (higher class likelier to survive) and Fare (higher fare likelier to survive). So, these are all interesting variables to consider, many strongly correlated, as seen below.\n",
    "* Other strong correlations worth noting are:\n",
    "    * Pclass with Age (higher class older people), Fare (higher fare likelier to be higher class) and Embarked (higher class in Cherbourg, lower in Queensland).\n",
    "    * Age with SibSp and Parch (older tend to have more familiars on board).\n",
    "    * SibSp and Parch are correlated between each other and both represent family on board. Both are correlated with Fare (more familiars result in more expensive tickets) and Sex (females tend to have more familiars on board).\n",
    "    * Fare with Sex (higher for female, as they travelled in larger groups) and Embarked (higher in Cherbourg, lower in Queensland, as seen with class)."
   ]
  },
  {
   "cell_type": "markdown",
   "metadata": {},
   "source": [
    "### 2.2.2 Detailed correlation to target variable"
   ]
  },
  {
   "cell_type": "markdown",
   "metadata": {},
   "source": [
    "#### 2.2.2.1 Class"
   ]
  },
  {
   "cell_type": "code",
   "execution_count": 9,
   "metadata": {},
   "outputs": [
    {
     "data": {
      "text/plain": [
       "<seaborn.axisgrid.FacetGrid at 0x265ecffc708>"
      ]
     },
     "execution_count": 9,
     "metadata": {},
     "output_type": "execute_result"
    },
    {
     "data": {
      "image/png": "[encoded data removed]",
      "text/plain": [
       "<Figure size 360x360 with 1 Axes>"
      ]
     },
     "metadata": {
      "needs_background": "light"
     },
     "output_type": "display_data"
    }
   ],
   "source": [
    "sns.catplot(x='Pclass', y='Survived', kind='bar', data=train)"
   ]
  },
  {
   "cell_type": "markdown",
   "metadata": {},
   "source": [
    "Passengers in higher class likelier to survive."
   ]
  },
  {
   "cell_type": "markdown",
   "metadata": {},
   "source": [
    "#### 2.2.2.2 Sex"
   ]
  },
  {
   "cell_type": "code",
   "execution_count": 10,
   "metadata": {},
   "outputs": [
    {
     "data": {
      "text/plain": [
       "<seaborn.axisgrid.FacetGrid at 0x265ec860888>"
      ]
     },
     "execution_count": 10,
     "metadata": {},
     "output_type": "execute_result"
    },
    {
     "data": {
      "image/png": "[encoded data removed]",
      "text/plain": [
       "<Figure size 360x360 with 1 Axes>"
      ]
     },
     "metadata": {
      "needs_background": "light"
     },
     "output_type": "display_data"
    },
    {
     "data": {
      "image/png": "[encoded data removed]",
      "text/plain": [
       "<Figure size 430.5x360 with 1 Axes>"
      ]
     },
     "metadata": {
      "needs_background": "light"
     },
     "output_type": "display_data"
    }
   ],
   "source": [
    "sns.catplot(x='Sex', y='Survived', kind='bar', data=train)\n",
    "sns.catplot(x='Pclass', y='Survived', hue='Sex', kind='bar', data=train)"
   ]
  },
  {
   "cell_type": "markdown",
   "metadata": {},
   "source": [
    "Female likelier to survive, showing almost an equal survival rate between 1st and 2nd class."
   ]
  },
  {
   "cell_type": "markdown",
   "metadata": {},
   "source": [
    "#### 2.2.2.3 Age"
   ]
  },
  {
   "cell_type": "code",
   "execution_count": 11,
   "metadata": {},
   "outputs": [
    {
     "data": {
      "text/plain": [
       "<matplotlib.axes._subplots.AxesSubplot at 0x265eca46388>"
      ]
     },
     "execution_count": 11,
     "metadata": {},
     "output_type": "execute_result"
    },
    {
     "data": {
      "image/png": "[encoded data removed]",
      "text/plain": [
       "<Figure size 432x288 with 1 Axes>"
      ]
     },
     "metadata": {
      "needs_background": "light"
     },
     "output_type": "display_data"
    }
   ],
   "source": [
    "sns.kdeplot(train.Age[train.Survived == 1], shade=True, label='Survived=1')\n",
    "sns.kdeplot(train.Age[train.Survived==0], shade=True, label='Survived=0')"
   ]
  },
  {
   "cell_type": "markdown",
   "metadata": {},
   "source": [
    "Children were likelier to survive. However, as seen previously, our test set doesn't contain a large amount of points there, so this characteristic of the train data won't be that useful to predict survival in the test set."
   ]
  },
  {
   "cell_type": "markdown",
   "metadata": {},
   "source": [
    "#### 2.2.2.4 SibSp and Parch"
   ]
  },
  {
   "cell_type": "code",
   "execution_count": 12,
   "metadata": {},
   "outputs": [
    {
     "data": {
      "text/plain": [
       "<seaborn.axisgrid.FacetGrid at 0x265eca7d308>"
      ]
     },
     "execution_count": 12,
     "metadata": {},
     "output_type": "execute_result"
    },
    {
     "data": {
      "image/png": "[encoded data removed]",
      "text/plain": [
       "<Figure size 360x360 with 1 Axes>"
      ]
     },
     "metadata": {
      "needs_background": "light"
     },
     "output_type": "display_data"
    },
    {
     "data": {
      "image/png": "[encoded data removed]",
      "text/plain": [
       "<Figure size 360x360 with 1 Axes>"
      ]
     },
     "metadata": {
      "needs_background": "light"
     },
     "output_type": "display_data"
    }
   ],
   "source": [
    "sns.catplot(x='Parch', y='Survived', kind='bar', data=train)\n",
    "sns.catplot(x='SibSp', y='Survived', kind='bar', data=train)"
   ]
  },
  {
   "cell_type": "markdown",
   "metadata": {},
   "source": [
    "People with 1-3 familiars on board seemed likelier to survive than those with none. Those with more than 2 show a really strong variability (likely due to the little amount of samples). This again points to the need of removing sparse categories."
   ]
  },
  {
   "cell_type": "markdown",
   "metadata": {},
   "source": [
    "#### 2.2.2.5 Fare"
   ]
  },
  {
   "cell_type": "code",
   "execution_count": 13,
   "metadata": {},
   "outputs": [
    {
     "data": {
      "text/plain": [
       "<matplotlib.axes._subplots.AxesSubplot at 0x265ec9f0348>"
      ]
     },
     "execution_count": 13,
     "metadata": {},
     "output_type": "execute_result"
    },
    {
     "data": {
      "image/png": "[encoded data removed]",
      "text/plain": [
       "<Figure size 432x288 with 1 Axes>"
      ]
     },
     "metadata": {
      "needs_background": "light"
     },
     "output_type": "display_data"
    }
   ],
   "source": [
    "sns.kdeplot(train.Fare[train.Survived == 1], shade=True, label='Survived=1')\n",
    "sns.kdeplot(train.Fare[train.Survived==0], shade=True, label='Survived=0')"
   ]
  },
  {
   "cell_type": "markdown",
   "metadata": {},
   "source": [
    "No clear trend noticeable, since the variable is heavily skewed. Again, scaling this variable might be worth."
   ]
  },
  {
   "cell_type": "markdown",
   "metadata": {},
   "source": [
    "#### 2.2.2.6 Embarked"
   ]
  },
  {
   "cell_type": "code",
   "execution_count": 14,
   "metadata": {},
   "outputs": [
    {
     "data": {
      "text/plain": [
       "<seaborn.axisgrid.FacetGrid at 0x265ec93cfc8>"
      ]
     },
     "execution_count": 14,
     "metadata": {},
     "output_type": "execute_result"
    },
    {
     "data": {
      "image/png": "[encoded data removed]",
      "text/plain": [
       "<Figure size 360x360 with 1 Axes>"
      ]
     },
     "metadata": {
      "needs_background": "light"
     },
     "output_type": "display_data"
    },
    {
     "data": {
      "image/png": "[encoded data removed]",
      "text/plain": [
       "<Figure size 402.375x360 with 1 Axes>"
      ]
     },
     "metadata": {
      "needs_background": "light"
     },
     "output_type": "display_data"
    }
   ],
   "source": [
    "sns.catplot(x='Embarked', y='Survived', kind='bar', data=train)\n",
    "sns.catplot(x='Embarked', y='Survived', hue='Pclass', kind='bar', data=train)"
   ]
  },
  {
   "cell_type": "markdown",
   "metadata": {},
   "source": [
    "Passengers embarked in Cherbourg likelier to survive, but this was also the place were most 1st class embarked. However, Queensland seemed to show a relatively high survival rate, even though most passengers were 3rd class, so this variable adds information beyond class."
   ]
  },
  {
   "cell_type": "markdown",
   "metadata": {},
   "source": [
    "# 3. Data cleaning"
   ]
  },
  {
   "cell_type": "markdown",
   "metadata": {},
   "source": [
    "In this section, we fix our data by analysing outliers and treating missing values."
   ]
  },
  {
   "cell_type": "markdown",
   "metadata": {},
   "source": [
    "## 3.1 Outliers"
   ]
  },
  {
   "cell_type": "markdown",
   "metadata": {},
   "source": [
    "We use IsolationForest method to investigate the 1% outlier values in our data set and see if we should ignore them."
   ]
  },
  {
   "cell_type": "code",
   "execution_count": 15,
   "metadata": {},
   "outputs": [
    {
     "data": {
      "text/html": [
       "<div>\n",
       "<style scoped>\n",
       "    .dataframe tbody tr th:only-of-type {\n",
       "        vertical-align: middle;\n",
       "    }\n",
       "\n",
       "    .dataframe tbody tr th {\n",
       "        vertical-align: top;\n",
       "    }\n",
       "\n",
       "    .dataframe thead th {\n",
       "        text-align: right;\n",
       "    }\n",
       "</style>\n",
       "<table border=\"1\" class=\"dataframe\">\n",
       "  <thead>\n",
       "    <tr style=\"text-align: right;\">\n",
       "      <th></th>\n",
       "      <th>PassengerId</th>\n",
       "      <th>Survived</th>\n",
       "      <th>Pclass</th>\n",
       "      <th>Name</th>\n",
       "      <th>Sex</th>\n",
       "      <th>Age</th>\n",
       "      <th>SibSp</th>\n",
       "      <th>Parch</th>\n",
       "      <th>Ticket</th>\n",
       "      <th>Fare</th>\n",
       "      <th>Cabin</th>\n",
       "      <th>Embarked</th>\n",
       "    </tr>\n",
       "  </thead>\n",
       "  <tbody>\n",
       "    <tr>\n",
       "      <th>159</th>\n",
       "      <td>160</td>\n",
       "      <td>0.0</td>\n",
       "      <td>3</td>\n",
       "      <td>Sage, Master. Thomas Henry</td>\n",
       "      <td>male</td>\n",
       "      <td>NaN</td>\n",
       "      <td>8</td>\n",
       "      <td>2</td>\n",
       "      <td>CA. 2343</td>\n",
       "      <td>69.5500</td>\n",
       "      <td>NaN</td>\n",
       "      <td>S</td>\n",
       "    </tr>\n",
       "    <tr>\n",
       "      <th>180</th>\n",
       "      <td>181</td>\n",
       "      <td>0.0</td>\n",
       "      <td>3</td>\n",
       "      <td>Sage, Miss. Constance Gladys</td>\n",
       "      <td>female</td>\n",
       "      <td>NaN</td>\n",
       "      <td>8</td>\n",
       "      <td>2</td>\n",
       "      <td>CA. 2343</td>\n",
       "      <td>69.5500</td>\n",
       "      <td>NaN</td>\n",
       "      <td>S</td>\n",
       "    </tr>\n",
       "    <tr>\n",
       "      <th>201</th>\n",
       "      <td>202</td>\n",
       "      <td>0.0</td>\n",
       "      <td>3</td>\n",
       "      <td>Sage, Mr. Frederick</td>\n",
       "      <td>male</td>\n",
       "      <td>NaN</td>\n",
       "      <td>8</td>\n",
       "      <td>2</td>\n",
       "      <td>CA. 2343</td>\n",
       "      <td>69.5500</td>\n",
       "      <td>NaN</td>\n",
       "      <td>S</td>\n",
       "    </tr>\n",
       "    <tr>\n",
       "      <th>324</th>\n",
       "      <td>325</td>\n",
       "      <td>0.0</td>\n",
       "      <td>3</td>\n",
       "      <td>Sage, Mr. George John Jr</td>\n",
       "      <td>male</td>\n",
       "      <td>NaN</td>\n",
       "      <td>8</td>\n",
       "      <td>2</td>\n",
       "      <td>CA. 2343</td>\n",
       "      <td>69.5500</td>\n",
       "      <td>NaN</td>\n",
       "      <td>S</td>\n",
       "    </tr>\n",
       "    <tr>\n",
       "      <th>438</th>\n",
       "      <td>439</td>\n",
       "      <td>0.0</td>\n",
       "      <td>1</td>\n",
       "      <td>Fortune, Mr. Mark</td>\n",
       "      <td>male</td>\n",
       "      <td>64.0</td>\n",
       "      <td>1</td>\n",
       "      <td>4</td>\n",
       "      <td>19950</td>\n",
       "      <td>263.0000</td>\n",
       "      <td>C23 C25 C27</td>\n",
       "      <td>S</td>\n",
       "    </tr>\n",
       "    <tr>\n",
       "      <th>792</th>\n",
       "      <td>793</td>\n",
       "      <td>0.0</td>\n",
       "      <td>3</td>\n",
       "      <td>Sage, Miss. Stella Anna</td>\n",
       "      <td>female</td>\n",
       "      <td>NaN</td>\n",
       "      <td>8</td>\n",
       "      <td>2</td>\n",
       "      <td>CA. 2343</td>\n",
       "      <td>69.5500</td>\n",
       "      <td>NaN</td>\n",
       "      <td>S</td>\n",
       "    </tr>\n",
       "    <tr>\n",
       "      <th>846</th>\n",
       "      <td>847</td>\n",
       "      <td>0.0</td>\n",
       "      <td>3</td>\n",
       "      <td>Sage, Mr. Douglas Bullen</td>\n",
       "      <td>male</td>\n",
       "      <td>NaN</td>\n",
       "      <td>8</td>\n",
       "      <td>2</td>\n",
       "      <td>CA. 2343</td>\n",
       "      <td>69.5500</td>\n",
       "      <td>NaN</td>\n",
       "      <td>S</td>\n",
       "    </tr>\n",
       "    <tr>\n",
       "      <th>863</th>\n",
       "      <td>864</td>\n",
       "      <td>0.0</td>\n",
       "      <td>3</td>\n",
       "      <td>Sage, Miss. Dorothy Edith \"Dolly\"</td>\n",
       "      <td>female</td>\n",
       "      <td>NaN</td>\n",
       "      <td>8</td>\n",
       "      <td>2</td>\n",
       "      <td>CA. 2343</td>\n",
       "      <td>69.5500</td>\n",
       "      <td>NaN</td>\n",
       "      <td>S</td>\n",
       "    </tr>\n",
       "    <tr>\n",
       "      <th>915</th>\n",
       "      <td>916</td>\n",
       "      <td>NaN</td>\n",
       "      <td>1</td>\n",
       "      <td>Ryerson, Mrs. Arthur Larned (Emily Maria Borie)</td>\n",
       "      <td>female</td>\n",
       "      <td>48.0</td>\n",
       "      <td>1</td>\n",
       "      <td>3</td>\n",
       "      <td>PC 17608</td>\n",
       "      <td>262.3750</td>\n",
       "      <td>B57 B59 B63 B66</td>\n",
       "      <td>C</td>\n",
       "    </tr>\n",
       "    <tr>\n",
       "      <th>960</th>\n",
       "      <td>961</td>\n",
       "      <td>NaN</td>\n",
       "      <td>1</td>\n",
       "      <td>Fortune, Mrs. Mark (Mary McDougald)</td>\n",
       "      <td>female</td>\n",
       "      <td>60.0</td>\n",
       "      <td>1</td>\n",
       "      <td>4</td>\n",
       "      <td>19950</td>\n",
       "      <td>263.0000</td>\n",
       "      <td>C23 C25 C27</td>\n",
       "      <td>S</td>\n",
       "    </tr>\n",
       "    <tr>\n",
       "      <th>1033</th>\n",
       "      <td>1034</td>\n",
       "      <td>NaN</td>\n",
       "      <td>1</td>\n",
       "      <td>Ryerson, Mr. Arthur Larned</td>\n",
       "      <td>male</td>\n",
       "      <td>61.0</td>\n",
       "      <td>1</td>\n",
       "      <td>3</td>\n",
       "      <td>PC 17608</td>\n",
       "      <td>262.3750</td>\n",
       "      <td>B57 B59 B63 B66</td>\n",
       "      <td>C</td>\n",
       "    </tr>\n",
       "    <tr>\n",
       "      <th>1079</th>\n",
       "      <td>1080</td>\n",
       "      <td>NaN</td>\n",
       "      <td>3</td>\n",
       "      <td>Sage, Miss. Ada</td>\n",
       "      <td>female</td>\n",
       "      <td>NaN</td>\n",
       "      <td>8</td>\n",
       "      <td>2</td>\n",
       "      <td>CA. 2343</td>\n",
       "      <td>69.5500</td>\n",
       "      <td>NaN</td>\n",
       "      <td>S</td>\n",
       "    </tr>\n",
       "    <tr>\n",
       "      <th>1234</th>\n",
       "      <td>1235</td>\n",
       "      <td>NaN</td>\n",
       "      <td>1</td>\n",
       "      <td>Cardeza, Mrs. James Warburton Martinez (Charlo...</td>\n",
       "      <td>female</td>\n",
       "      <td>58.0</td>\n",
       "      <td>0</td>\n",
       "      <td>1</td>\n",
       "      <td>PC 17755</td>\n",
       "      <td>512.3292</td>\n",
       "      <td>B51 B53 B55</td>\n",
       "      <td>C</td>\n",
       "    </tr>\n",
       "    <tr>\n",
       "      <th>1251</th>\n",
       "      <td>1252</td>\n",
       "      <td>NaN</td>\n",
       "      <td>3</td>\n",
       "      <td>Sage, Master. William Henry</td>\n",
       "      <td>male</td>\n",
       "      <td>14.5</td>\n",
       "      <td>8</td>\n",
       "      <td>2</td>\n",
       "      <td>CA. 2343</td>\n",
       "      <td>69.5500</td>\n",
       "      <td>NaN</td>\n",
       "      <td>S</td>\n",
       "    </tr>\n",
       "  </tbody>\n",
       "</table>\n",
       "</div>"
      ],
      "text/plain": [
       "      PassengerId  Survived  Pclass  \\\n",
       "159           160       0.0       3   \n",
       "180           181       0.0       3   \n",
       "201           202       0.0       3   \n",
       "324           325       0.0       3   \n",
       "438           439       0.0       1   \n",
       "792           793       0.0       3   \n",
       "846           847       0.0       3   \n",
       "863           864       0.0       3   \n",
       "915           916       NaN       1   \n",
       "960           961       NaN       1   \n",
       "1033         1034       NaN       1   \n",
       "1079         1080       NaN       3   \n",
       "1234         1235       NaN       1   \n",
       "1251         1252       NaN       3   \n",
       "\n",
       "                                                   Name     Sex   Age  SibSp  \\\n",
       "159                          Sage, Master. Thomas Henry    male   NaN      8   \n",
       "180                        Sage, Miss. Constance Gladys  female   NaN      8   \n",
       "201                                 Sage, Mr. Frederick    male   NaN      8   \n",
       "324                            Sage, Mr. George John Jr    male   NaN      8   \n",
       "438                                   Fortune, Mr. Mark    male  64.0      1   \n",
       "792                             Sage, Miss. Stella Anna  female   NaN      8   \n",
       "846                            Sage, Mr. Douglas Bullen    male   NaN      8   \n",
       "863                   Sage, Miss. Dorothy Edith \"Dolly\"  female   NaN      8   \n",
       "915     Ryerson, Mrs. Arthur Larned (Emily Maria Borie)  female  48.0      1   \n",
       "960                 Fortune, Mrs. Mark (Mary McDougald)  female  60.0      1   \n",
       "1033                         Ryerson, Mr. Arthur Larned    male  61.0      1   \n",
       "1079                                    Sage, Miss. Ada  female   NaN      8   \n",
       "1234  Cardeza, Mrs. James Warburton Martinez (Charlo...  female  58.0      0   \n",
       "1251                        Sage, Master. William Henry    male  14.5      8   \n",
       "\n",
       "      Parch    Ticket      Fare            Cabin Embarked  \n",
       "159       2  CA. 2343   69.5500              NaN        S  \n",
       "180       2  CA. 2343   69.5500              NaN        S  \n",
       "201       2  CA. 2343   69.5500              NaN        S  \n",
       "324       2  CA. 2343   69.5500              NaN        S  \n",
       "438       4     19950  263.0000      C23 C25 C27        S  \n",
       "792       2  CA. 2343   69.5500              NaN        S  \n",
       "846       2  CA. 2343   69.5500              NaN        S  \n",
       "863       2  CA. 2343   69.5500              NaN        S  \n",
       "915       3  PC 17608  262.3750  B57 B59 B63 B66        C  \n",
       "960       4     19950  263.0000      C23 C25 C27        S  \n",
       "1033      3  PC 17608  262.3750  B57 B59 B63 B66        C  \n",
       "1079      2  CA. 2343   69.5500              NaN        S  \n",
       "1234      1  PC 17755  512.3292      B51 B53 B55        C  \n",
       "1251      2  CA. 2343   69.5500              NaN        S  "
      ]
     },
     "execution_count": 15,
     "metadata": {},
     "output_type": "execute_result"
    }
   ],
   "source": [
    "X = data[['Age','Fare','SibSp','Parch']]\n",
    "X = X.fillna({'Age': X.Age.mean(), 'Fare': X.Fare.mean()}) # fill with average values, not outliers\n",
    "\n",
    "iso_forest = IsolationForest(contamination=0.01,\n",
    "                             random_state=123456).fit(X)\n",
    "id_outliers = iso_forest.predict(X)\n",
    "outliers = data[id_outliers==-1]\n",
    "outliers"
   ]
  },
  {
   "cell_type": "markdown",
   "metadata": {},
   "source": [
    "The algorithm returns passengers with large SibSp (all from the Sage family with 11 members onboard) or passengers with high fares, which were fewer.\n",
    "\n",
    "We notice that these kinds of passengers were both in the train and in the test set (observations > 891), so we decide to keep them and handle them later (via tranformations, models less sensitive to them)"
   ]
  },
  {
   "cell_type": "markdown",
   "metadata": {},
   "source": [
    "## 3.2 Missing data"
   ]
  },
  {
   "cell_type": "markdown",
   "metadata": {},
   "source": [
    "We have missing data in Age, Fare, Cabin and Embarked variables. We decide to fill these instead of using indicators to signal \"missingness\"."
   ]
  },
  {
   "cell_type": "markdown",
   "metadata": {},
   "source": [
    "### 3.2.1 Age"
   ]
  },
  {
   "cell_type": "markdown",
   "metadata": {},
   "source": [
    "Age has ~20% missing values, so we decide to predict its values based on other variables.\n",
    "\n",
    "Looking at the correlations in 2.2.1 Age has higher correlation with Pclass, Fare, SibSp and Parch. We fit a linear regression model to predict missing ages based on these."
   ]
  },
  {
   "cell_type": "code",
   "execution_count": 16,
   "metadata": {},
   "outputs": [
    {
     "data": {
      "text/plain": [
       "<matplotlib.legend.Legend at 0x265ec989bc8>"
      ]
     },
     "execution_count": 16,
     "metadata": {},
     "output_type": "execute_result"
    },
    {
     "data": {
      "image/png": "[encoded data removed]",
      "text/plain": [
       "<Figure size 1152x288 with 2 Axes>"
      ]
     },
     "metadata": {
      "needs_background": "light"
     },
     "output_type": "display_data"
    }
   ],
   "source": [
    "age_data = data[['Age', 'Pclass', 'Fare', 'SibSp', 'Parch']]\n",
    "age_data = age_data[age_data['Fare'].notna()]\n",
    "\n",
    "X_age_train = age_data[age_data['Age'].notnull()].drop(columns='Age') # train set are samples with age not null\n",
    "y_age_train = age_data[age_data['Age'].notnull()]['Age']\n",
    "X_age_test = age_data[age_data['Age'].isnull()].drop(columns='Age')\n",
    "\n",
    "lreg = LinearRegression(normalize=True) # fit linear regression\n",
    "lreg.fit(X_age_train, y_age_train)\n",
    "predict_age = lreg.predict(X_age_test)\n",
    "\n",
    "data.loc[data.Age.isnull(), 'Age'] = predict_age # fill missing\n",
    "\n",
    "plt.figure(figsize=(16,4)) # plot to see how distribution has changed after filling\n",
    "plt.subplot(121)\n",
    "sns.kdeplot(train.Age[train.Survived == 1], shade=True, label='Survived=1')\n",
    "sns.kdeplot(train.Age[train.Survived==0], shade=True, label='Survived=0')\n",
    "plt.title('Before filling')\n",
    "plt.subplot(122)\n",
    "sns.kdeplot(data.Age[data.Survived == 1], shade=True, label='Survived=1')\n",
    "sns.kdeplot(data.Age[data.Survived==0], shade=True, label='Survived=0')\n",
    "plt.title('After filling')\n",
    "plt.legend()"
   ]
  },
  {
   "cell_type": "markdown",
   "metadata": {},
   "source": [
    "We can see a similar dependency of our target on age, only the chance of surviving for the 20-30 yr olds is reduced."
   ]
  },
  {
   "cell_type": "markdown",
   "metadata": {},
   "source": [
    "### 3.2.2 Fare"
   ]
  },
  {
   "cell_type": "markdown",
   "metadata": {},
   "source": [
    "There is only a missing value for Fare:"
   ]
  },
  {
   "cell_type": "code",
   "execution_count": 17,
   "metadata": {},
   "outputs": [
    {
     "data": {
      "text/html": [
       "<div>\n",
       "<style scoped>\n",
       "    .dataframe tbody tr th:only-of-type {\n",
       "        vertical-align: middle;\n",
       "    }\n",
       "\n",
       "    .dataframe tbody tr th {\n",
       "        vertical-align: top;\n",
       "    }\n",
       "\n",
       "    .dataframe thead th {\n",
       "        text-align: right;\n",
       "    }\n",
       "</style>\n",
       "<table border=\"1\" class=\"dataframe\">\n",
       "  <thead>\n",
       "    <tr style=\"text-align: right;\">\n",
       "      <th></th>\n",
       "      <th>PassengerId</th>\n",
       "      <th>Survived</th>\n",
       "      <th>Pclass</th>\n",
       "      <th>Name</th>\n",
       "      <th>Sex</th>\n",
       "      <th>Age</th>\n",
       "      <th>SibSp</th>\n",
       "      <th>Parch</th>\n",
       "      <th>Ticket</th>\n",
       "      <th>Fare</th>\n",
       "      <th>Cabin</th>\n",
       "      <th>Embarked</th>\n",
       "    </tr>\n",
       "  </thead>\n",
       "  <tbody>\n",
       "    <tr>\n",
       "      <th>1043</th>\n",
       "      <td>1044</td>\n",
       "      <td>NaN</td>\n",
       "      <td>3</td>\n",
       "      <td>Storey, Mr. Thomas</td>\n",
       "      <td>male</td>\n",
       "      <td>60.5</td>\n",
       "      <td>0</td>\n",
       "      <td>0</td>\n",
       "      <td>3701</td>\n",
       "      <td>NaN</td>\n",
       "      <td>NaN</td>\n",
       "      <td>S</td>\n",
       "    </tr>\n",
       "  </tbody>\n",
       "</table>\n",
       "</div>"
      ],
      "text/plain": [
       "      PassengerId  Survived  Pclass                Name   Sex   Age  SibSp  \\\n",
       "1043         1044       NaN       3  Storey, Mr. Thomas  male  60.5      0   \n",
       "\n",
       "      Parch Ticket  Fare Cabin Embarked  \n",
       "1043      0   3701   NaN   NaN        S  "
      ]
     },
     "execution_count": 17,
     "metadata": {},
     "output_type": "execute_result"
    }
   ],
   "source": [
    "data[data.Fare.isna()]"
   ]
  },
  {
   "cell_type": "markdown",
   "metadata": {},
   "source": [
    "Fare is highly correlated with Pclass, Embarked, SibSp and Parch. So we use the median (fare is highly skewed) fare of these passengers:"
   ]
  },
  {
   "cell_type": "code",
   "execution_count": 18,
   "metadata": {},
   "outputs": [],
   "source": [
    "med_Fare = data.groupby(['Pclass', 'Embarked', 'Parch', 'SibSp']).Fare.median()[3]['S'][0][0]\n",
    "data.loc[data.Fare.isnull(), 'Fare'] = med_Fare"
   ]
  },
  {
   "cell_type": "markdown",
   "metadata": {},
   "source": [
    "### 3.2.3 Cabin"
   ]
  },
  {
   "cell_type": "markdown",
   "metadata": {},
   "source": [
    "This variable is mostly missing values and not useful without tranformation, so we cannot infer any useful correlation to fill it. We set nulls to 'missing' for now:"
   ]
  },
  {
   "cell_type": "code",
   "execution_count": 19,
   "metadata": {},
   "outputs": [],
   "source": [
    "data.loc[data.Cabin.isnull(), 'Cabin'] = 'missing'"
   ]
  },
  {
   "cell_type": "markdown",
   "metadata": {},
   "source": [
    "### 3.2.4 Embarked"
   ]
  },
  {
   "cell_type": "markdown",
   "metadata": {},
   "source": [
    "There are 2 missing values in the train set:"
   ]
  },
  {
   "cell_type": "code",
   "execution_count": 20,
   "metadata": {},
   "outputs": [
    {
     "data": {
      "text/html": [
       "<div>\n",
       "<style scoped>\n",
       "    .dataframe tbody tr th:only-of-type {\n",
       "        vertical-align: middle;\n",
       "    }\n",
       "\n",
       "    .dataframe tbody tr th {\n",
       "        vertical-align: top;\n",
       "    }\n",
       "\n",
       "    .dataframe thead th {\n",
       "        text-align: right;\n",
       "    }\n",
       "</style>\n",
       "<table border=\"1\" class=\"dataframe\">\n",
       "  <thead>\n",
       "    <tr style=\"text-align: right;\">\n",
       "      <th></th>\n",
       "      <th>PassengerId</th>\n",
       "      <th>Survived</th>\n",
       "      <th>Pclass</th>\n",
       "      <th>Name</th>\n",
       "      <th>Sex</th>\n",
       "      <th>Age</th>\n",
       "      <th>SibSp</th>\n",
       "      <th>Parch</th>\n",
       "      <th>Ticket</th>\n",
       "      <th>Fare</th>\n",
       "      <th>Cabin</th>\n",
       "      <th>Embarked</th>\n",
       "    </tr>\n",
       "  </thead>\n",
       "  <tbody>\n",
       "    <tr>\n",
       "      <th>61</th>\n",
       "      <td>62</td>\n",
       "      <td>1.0</td>\n",
       "      <td>1</td>\n",
       "      <td>Icard, Miss. Amelie</td>\n",
       "      <td>female</td>\n",
       "      <td>38.0</td>\n",
       "      <td>0</td>\n",
       "      <td>0</td>\n",
       "      <td>113572</td>\n",
       "      <td>80.0</td>\n",
       "      <td>B28</td>\n",
       "      <td>NaN</td>\n",
       "    </tr>\n",
       "    <tr>\n",
       "      <th>829</th>\n",
       "      <td>830</td>\n",
       "      <td>1.0</td>\n",
       "      <td>1</td>\n",
       "      <td>Stone, Mrs. George Nelson (Martha Evelyn)</td>\n",
       "      <td>female</td>\n",
       "      <td>62.0</td>\n",
       "      <td>0</td>\n",
       "      <td>0</td>\n",
       "      <td>113572</td>\n",
       "      <td>80.0</td>\n",
       "      <td>B28</td>\n",
       "      <td>NaN</td>\n",
       "    </tr>\n",
       "  </tbody>\n",
       "</table>\n",
       "</div>"
      ],
      "text/plain": [
       "     PassengerId  Survived  Pclass                                       Name  \\\n",
       "61            62       1.0       1                        Icard, Miss. Amelie   \n",
       "829          830       1.0       1  Stone, Mrs. George Nelson (Martha Evelyn)   \n",
       "\n",
       "        Sex   Age  SibSp  Parch  Ticket  Fare Cabin Embarked  \n",
       "61   female  38.0      0      0  113572  80.0   B28      NaN  \n",
       "829  female  62.0      0      0  113572  80.0   B28      NaN  "
      ]
     },
     "execution_count": 20,
     "metadata": {},
     "output_type": "execute_result"
    }
   ],
   "source": [
    "data[data.Embarked.isnull()]"
   ]
  },
  {
   "cell_type": "markdown",
   "metadata": {},
   "source": [
    "Both passengers share ticket, so they embarked from the same port. Embarked is mostly correlated with Pclass and Fare, which in turn depend on each other. So, we use the most common value for 1st class:"
   ]
  },
  {
   "cell_type": "code",
   "execution_count": 21,
   "metadata": {},
   "outputs": [],
   "source": [
    "most_common_Embarked =  data.groupby('Pclass').apply(lambda x: x.Embarked.value_counts().index[0])\n",
    "data.loc[data.Embarked.isnull(), 'Embarked'] = most_common_Embarked[1]"
   ]
  },
  {
   "cell_type": "markdown",
   "metadata": {},
   "source": [
    "### 3.2.5 Quick check"
   ]
  },
  {
   "cell_type": "markdown",
   "metadata": {},
   "source": [
    "No missing values in our data (apart from the target variable in the test set):"
   ]
  },
  {
   "cell_type": "code",
   "execution_count": 22,
   "metadata": {},
   "outputs": [
    {
     "data": {
      "text/plain": [
       "PassengerId      0\n",
       "Survived       418\n",
       "Pclass           0\n",
       "Name             0\n",
       "Sex              0\n",
       "Age              0\n",
       "SibSp            0\n",
       "Parch            0\n",
       "Ticket           0\n",
       "Fare             0\n",
       "Cabin            0\n",
       "Embarked         0\n",
       "dtype: int64"
      ]
     },
     "execution_count": 22,
     "metadata": {},
     "output_type": "execute_result"
    }
   ],
   "source": [
    "data.isnull().sum()"
   ]
  },
  {
   "cell_type": "markdown",
   "metadata": {},
   "source": [
    "# 4. Feature engineering"
   ]
  },
  {
   "cell_type": "markdown",
   "metadata": {},
   "source": [
    "Here, we use our insights from EDA and cleaned data to create and select a set of features to fit our model on."
   ]
  },
  {
   "cell_type": "markdown",
   "metadata": {},
   "source": [
    "### 4.1 New features"
   ]
  },
  {
   "cell_type": "markdown",
   "metadata": {},
   "source": [
    "### 4.1.1 Title"
   ]
  },
  {
   "cell_type": "markdown",
   "metadata": {},
   "source": [
    "The name variable starts with the title of the passenger, which is a way to distinguish their status, so that might show some correlation with survival."
   ]
  },
  {
   "cell_type": "code",
   "execution_count": 23,
   "metadata": {},
   "outputs": [
    {
     "data": {
      "text/plain": [
       "<matplotlib.axes._subplots.AxesSubplot at 0x265ecb00f88>"
      ]
     },
     "execution_count": 23,
     "metadata": {},
     "output_type": "execute_result"
    },
    {
     "data": {
      "image/png": "[encoded data removed]",
      "text/plain": [
       "<Figure size 1296x288 with 1 Axes>"
      ]
     },
     "metadata": {
      "needs_background": "light"
     },
     "output_type": "display_data"
    }
   ],
   "source": [
    "data['Title'] = data['Name'].str.split(', ', expand=True)[1].str.split('.', expand=True)[0]\n",
    "plt.figure(figsize=(18,4))\n",
    "sns.countplot(data.Title)"
   ]
  },
  {
   "cell_type": "markdown",
   "metadata": {},
   "source": [
    "Title feature is sparse, so we group together similar categories:"
   ]
  },
  {
   "cell_type": "code",
   "execution_count": 24,
   "metadata": {},
   "outputs": [
    {
     "data": {
      "text/plain": [
       "<seaborn.axisgrid.FacetGrid at 0x265ecadaac8>"
      ]
     },
     "execution_count": 24,
     "metadata": {},
     "output_type": "execute_result"
    },
    {
     "data": {
      "text/plain": [
       "<Figure size 1296x288 with 0 Axes>"
      ]
     },
     "metadata": {},
     "output_type": "display_data"
    },
    {
     "data": {
      "image/png": "[encoded data removed]",
      "text/plain": [
       "<Figure size 360x360 with 1 Axes>"
      ]
     },
     "metadata": {
      "needs_background": "light"
     },
     "output_type": "display_data"
    }
   ],
   "source": [
    "data['Title'] = data['Title'].replace(['Mrs', 'Miss', 'Mme', 'Mlle',  'Ms', 'Lady', 'Dona', 'the Countess'], 'FemaleTitle')\n",
    "data['Title'] = data['Title'].replace(['Don', 'Dr', 'Major', 'Sir', 'Capt', 'Jonkheer', 'Col' ,'Rev'], 'Other')\n",
    "data = data.drop('Name', axis=1)\n",
    "plt.figure(figsize=(18,4))\n",
    "sns.catplot(x='Title', y='Survived', kind='bar', data=data)"
   ]
  },
  {
   "cell_type": "markdown",
   "metadata": {},
   "source": [
    "So, passengers with female titles had higher chances of survival (as expected from Sex), but also Master seemed to have higher survival chances within males. So, this feature adds information beyond the Sex distinction."
   ]
  },
  {
   "cell_type": "markdown",
   "metadata": {},
   "source": [
    "### 4.1.2 Deck"
   ]
  },
  {
   "cell_type": "markdown",
   "metadata": {},
   "source": [
    "Cabin is highly sparse so using only the first letter, which represents the deck, might bring a more useful feature."
   ]
  },
  {
   "cell_type": "code",
   "execution_count": 25,
   "metadata": {},
   "outputs": [
    {
     "data": {
      "text/plain": [
       "<seaborn.axisgrid.FacetGrid at 0x265e8f6be88>"
      ]
     },
     "execution_count": 25,
     "metadata": {},
     "output_type": "execute_result"
    },
    {
     "data": {
      "image/png": "[encoded data removed]",
      "text/plain": [
       "<Figure size 432x288 with 1 Axes>"
      ]
     },
     "metadata": {
      "needs_background": "light"
     },
     "output_type": "display_data"
    },
    {
     "data": {
      "image/png": "[encoded data removed]",
      "text/plain": [
       "<Figure size 360x360 with 1 Axes>"
      ]
     },
     "metadata": {
      "needs_background": "light"
     },
     "output_type": "display_data"
    }
   ],
   "source": [
    "data['Deck'] = pd.Series(x[0] if not x=='missing' else 'missing' for x in data['Cabin'])\n",
    "sns.countplot(data.Deck)\n",
    "sns.catplot(x='Deck', y='Survived', kind='bar', data=data)"
   ]
  },
  {
   "cell_type": "markdown",
   "metadata": {},
   "source": [
    "This feature is sparse and the clearest trend is that those without deck had lower survival rate. We decide to create two groups only: missing or available"
   ]
  },
  {
   "cell_type": "code",
   "execution_count": 26,
   "metadata": {},
   "outputs": [
    {
     "data": {
      "text/plain": [
       "<seaborn.axisgrid.FacetGrid at 0x265e5f43d88>"
      ]
     },
     "execution_count": 26,
     "metadata": {},
     "output_type": "execute_result"
    },
    {
     "data": {
      "image/png": "[encoded data removed]",
      "text/plain": [
       "<Figure size 360x360 with 1 Axes>"
      ]
     },
     "metadata": {
      "needs_background": "light"
     },
     "output_type": "display_data"
    }
   ],
   "source": [
    "data.loc[data.Deck!='missing', 'Deck'] = 'available'\n",
    "data = data.drop('Cabin', axis=1)\n",
    "sns.catplot(x='Deck', y='Survived', kind='bar', data=data)"
   ]
  },
  {
   "cell_type": "markdown",
   "metadata": {},
   "source": [
    "### 4.1.3 Ticket"
   ]
  },
  {
   "cell_type": "markdown",
   "metadata": {},
   "source": [
    "Ticket is heavily sparse, but has some repeated values meaning that some passengers travelled under the same ticket. This could influence survival rate, so we compute the ticket counts:"
   ]
  },
  {
   "cell_type": "code",
   "execution_count": 27,
   "metadata": {},
   "outputs": [
    {
     "data": {
      "text/plain": [
       "<matplotlib.axes._subplots.AxesSubplot at 0x265ecdebec8>"
      ]
     },
     "execution_count": 27,
     "metadata": {},
     "output_type": "execute_result"
    },
    {
     "data": {
      "image/png": "[encoded data removed]",
      "text/plain": [
       "<Figure size 432x288 with 1 Axes>"
      ]
     },
     "metadata": {
      "needs_background": "light"
     },
     "output_type": "display_data"
    }
   ],
   "source": [
    "data['TicketCount'] = data.groupby('Ticket')['Ticket'].transform('count')\n",
    "data['TicketCount'] = data.TicketCount.astype(str)\n",
    "sns.countplot(data.TicketCount)"
   ]
  },
  {
   "cell_type": "markdown",
   "metadata": {},
   "source": [
    "Most people travelled in an individual ticket or shared with 2 or 3, so we group all with more than 3 ticket counts together to reduce sparsity:"
   ]
  },
  {
   "cell_type": "code",
   "execution_count": 28,
   "metadata": {},
   "outputs": [
    {
     "data": {
      "text/plain": [
       "<seaborn.axisgrid.FacetGrid at 0x265ecdf0f48>"
      ]
     },
     "execution_count": 28,
     "metadata": {},
     "output_type": "execute_result"
    },
    {
     "data": {
      "image/png": "[encoded data removed]",
      "text/plain": [
       "<Figure size 360x360 with 1 Axes>"
      ]
     },
     "metadata": {
      "needs_background": "light"
     },
     "output_type": "display_data"
    }
   ],
   "source": [
    "data.loc[~data.TicketCount.isin(['1', '2', '3']),['TicketCount']] = '+3'\n",
    "data = data.drop('Ticket', axis=1)\n",
    "sns.catplot(x='TicketCount', y='Survived', kind='bar', data=data, order=['1','2','3','+3'])"
   ]
  },
  {
   "cell_type": "markdown",
   "metadata": {},
   "source": [
    "So, those travelling sith a shared ticket between 2 or 3 people had higher survival chances."
   ]
  },
  {
   "cell_type": "markdown",
   "metadata": {},
   "source": [
    "### 4.1.4 Log(fare)"
   ]
  },
  {
   "cell_type": "markdown",
   "metadata": {},
   "source": [
    "Fare shows a strong positive skew, so we can reduce this by using a logtranformation:"
   ]
  },
  {
   "cell_type": "code",
   "execution_count": 29,
   "metadata": {},
   "outputs": [
    {
     "data": {
      "image/png": "[encoded data removed]",
      "text/plain": [
       "<Figure size 1152x288 with 2 Axes>"
      ]
     },
     "metadata": {
      "needs_background": "light"
     },
     "output_type": "display_data"
    }
   ],
   "source": [
    "data['Fare_log'] = data['Fare'].map(lambda x: np.log(x) if x > 0 else 0)\n",
    "\n",
    "plt.figure(figsize=(16,4))\n",
    "\n",
    "plt.subplot(121)\n",
    "sns.kdeplot(data.Fare, label='Fare')\n",
    "sns.kdeplot(data.Fare_log, label='log(Fare)')\n",
    "plt.ylim([0, 0.1])\n",
    "plt.subplot(122)\n",
    "sns.kdeplot(data.Fare_log[data.Survived == 1], shade=True, label='Survived=1')\n",
    "sns.kdeplot(data.Fare_log[data.Survived==0], shade=True, label='Survived=0')\n",
    "\n",
    "data= data.drop('Fare', axis=1)\n",
    "plt.show()"
   ]
  },
  {
   "cell_type": "markdown",
   "metadata": {},
   "source": [
    "Skewness is clearly reduced and we can it is clearer that passengers with higher fares had higher chances to survive, so we drop fare."
   ]
  },
  {
   "cell_type": "markdown",
   "metadata": {},
   "source": [
    "### 4.1.5 Family size"
   ]
  },
  {
   "cell_type": "markdown",
   "metadata": {},
   "source": [
    "We saw that SibSp and Parch are related and both are sparse, so joining them together in a feature that explains the number of familiars sounds sensible:"
   ]
  },
  {
   "cell_type": "code",
   "execution_count": 30,
   "metadata": {},
   "outputs": [
    {
     "data": {
      "text/plain": [
       "<matplotlib.axes._subplots.AxesSubplot at 0x265ed205108>"
      ]
     },
     "execution_count": 30,
     "metadata": {},
     "output_type": "execute_result"
    },
    {
     "data": {
      "image/png": "[encoded data removed]",
      "text/plain": [
       "<Figure size 432x288 with 1 Axes>"
      ]
     },
     "metadata": {
      "needs_background": "light"
     },
     "output_type": "display_data"
    }
   ],
   "source": [
    "data['FamSize'] = data.SibSp + data.Parch + 1\n",
    "data['FamSize'] = data.FamSize.astype(str)\n",
    "sns.countplot(data.FamSize)"
   ]
  },
  {
   "cell_type": "markdown",
   "metadata": {},
   "source": [
    "We still have very few values above 4 so we join those into a new category '+3':"
   ]
  },
  {
   "cell_type": "code",
   "execution_count": 31,
   "metadata": {},
   "outputs": [
    {
     "data": {
      "text/plain": [
       "<seaborn.axisgrid.FacetGrid at 0x265ed23c948>"
      ]
     },
     "execution_count": 31,
     "metadata": {},
     "output_type": "execute_result"
    },
    {
     "data": {
      "image/png": "[encoded data removed]",
      "text/plain": [
       "<Figure size 360x360 with 1 Axes>"
      ]
     },
     "metadata": {
      "needs_background": "light"
     },
     "output_type": "display_data"
    }
   ],
   "source": [
    "data.loc[~data.FamSize.isin(['1', '2', '3']),['FamSize']] = '+3'\n",
    "data[data.FamSize=='+3']\n",
    "data = data.drop(['Parch', 'SibSp', 'PassengerId'], axis=1) # we also drop PassengerId\n",
    "sns.catplot(x='FamSize', y='Survived', kind='bar', data=data, order=['1','2','3','+3'])"
   ]
  },
  {
   "cell_type": "markdown",
   "metadata": {},
   "source": [
    "So, medium size families had the best chance for survival, which is similar to what we saw when looking at Parch and SibSp separately."
   ]
  },
  {
   "cell_type": "markdown",
   "metadata": {},
   "source": [
    "## 4.2 Final transformations"
   ]
  },
  {
   "cell_type": "markdown",
   "metadata": {},
   "source": [
    "Our continuous numeric variables (Age and Fare_log) are normalized:"
   ]
  },
  {
   "cell_type": "code",
   "execution_count": 32,
   "metadata": {},
   "outputs": [
    {
     "data": {
      "text/html": [
       "<div>\n",
       "<style scoped>\n",
       "    .dataframe tbody tr th:only-of-type {\n",
       "        vertical-align: middle;\n",
       "    }\n",
       "\n",
       "    .dataframe tbody tr th {\n",
       "        vertical-align: top;\n",
       "    }\n",
       "\n",
       "    .dataframe thead th {\n",
       "        text-align: right;\n",
       "    }\n",
       "</style>\n",
       "<table border=\"1\" class=\"dataframe\">\n",
       "  <thead>\n",
       "    <tr style=\"text-align: right;\">\n",
       "      <th></th>\n",
       "      <th>Survived</th>\n",
       "      <th>Pclass</th>\n",
       "      <th>Sex</th>\n",
       "      <th>Age</th>\n",
       "      <th>Embarked</th>\n",
       "      <th>Title</th>\n",
       "      <th>Deck</th>\n",
       "      <th>TicketCount</th>\n",
       "      <th>Fare_log</th>\n",
       "      <th>FamSize</th>\n",
       "    </tr>\n",
       "  </thead>\n",
       "  <tbody>\n",
       "    <tr>\n",
       "      <th>0</th>\n",
       "      <td>0.0</td>\n",
       "      <td>3</td>\n",
       "      <td>male</td>\n",
       "      <td>-0.548549</td>\n",
       "      <td>S</td>\n",
       "      <td>Mr</td>\n",
       "      <td>missing</td>\n",
       "      <td>1</td>\n",
       "      <td>-0.925472</td>\n",
       "      <td>2</td>\n",
       "    </tr>\n",
       "    <tr>\n",
       "      <th>1</th>\n",
       "      <td>1.0</td>\n",
       "      <td>1</td>\n",
       "      <td>female</td>\n",
       "      <td>0.648846</td>\n",
       "      <td>C</td>\n",
       "      <td>FemaleTitle</td>\n",
       "      <td>available</td>\n",
       "      <td>2</td>\n",
       "      <td>1.351645</td>\n",
       "      <td>2</td>\n",
       "    </tr>\n",
       "    <tr>\n",
       "      <th>2</th>\n",
       "      <td>1.0</td>\n",
       "      <td>3</td>\n",
       "      <td>female</td>\n",
       "      <td>-0.249200</td>\n",
       "      <td>S</td>\n",
       "      <td>FemaleTitle</td>\n",
       "      <td>missing</td>\n",
       "      <td>1</td>\n",
       "      <td>-0.836784</td>\n",
       "      <td>1</td>\n",
       "    </tr>\n",
       "    <tr>\n",
       "      <th>3</th>\n",
       "      <td>1.0</td>\n",
       "      <td>1</td>\n",
       "      <td>female</td>\n",
       "      <td>0.424334</td>\n",
       "      <td>S</td>\n",
       "      <td>FemaleTitle</td>\n",
       "      <td>available</td>\n",
       "      <td>2</td>\n",
       "      <td>1.058261</td>\n",
       "      <td>2</td>\n",
       "    </tr>\n",
       "    <tr>\n",
       "      <th>4</th>\n",
       "      <td>0.0</td>\n",
       "      <td>3</td>\n",
       "      <td>male</td>\n",
       "      <td>0.424334</td>\n",
       "      <td>S</td>\n",
       "      <td>Mr</td>\n",
       "      <td>missing</td>\n",
       "      <td>1</td>\n",
       "      <td>-0.821192</td>\n",
       "      <td>1</td>\n",
       "    </tr>\n",
       "  </tbody>\n",
       "</table>\n",
       "</div>"
      ],
      "text/plain": [
       "   Survived  Pclass     Sex       Age Embarked        Title       Deck  \\\n",
       "0       0.0       3    male -0.548549        S           Mr    missing   \n",
       "1       1.0       1  female  0.648846        C  FemaleTitle  available   \n",
       "2       1.0       3  female -0.249200        S  FemaleTitle    missing   \n",
       "3       1.0       1  female  0.424334        S  FemaleTitle  available   \n",
       "4       0.0       3    male  0.424334        S           Mr    missing   \n",
       "\n",
       "  TicketCount  Fare_log FamSize  \n",
       "0           1 -0.925472       2  \n",
       "1           2  1.351645       2  \n",
       "2           1 -0.836784       1  \n",
       "3           2  1.058261       2  \n",
       "4           1 -0.821192       1  "
      ]
     },
     "execution_count": 32,
     "metadata": {},
     "output_type": "execute_result"
    }
   ],
   "source": [
    "cols_to_scale = ['Age', 'Fare_log']\n",
    "scaler = preprocessing.StandardScaler().fit(data[cols_to_scale])\n",
    "data[cols_to_scale] = scaler.transform(data[cols_to_scale])\n",
    "data.head()"
   ]
  },
  {
   "cell_type": "markdown",
   "metadata": {},
   "source": [
    "Our categoricals are converted to indicators via one-hot encoding to be able to add them to the model:"
   ]
  },
  {
   "cell_type": "code",
   "execution_count": 33,
   "metadata": {},
   "outputs": [],
   "source": [
    "data = pd.get_dummies(data, columns=['Pclass', 'Sex', 'Embarked', 'Title', 'Deck', 'TicketCount', 'FamSize'])"
   ]
  },
  {
   "cell_type": "markdown",
   "metadata": {},
   "source": [
    "Finally, we split our data set back into training and test set to feed into our model (X= features, y= target):"
   ]
  },
  {
   "cell_type": "code",
   "execution_count": 34,
   "metadata": {},
   "outputs": [],
   "source": [
    "train_post = data[:891] # create new variables to keep originals\n",
    "test_post = data[891:]\n",
    "X_train = train_post.drop('Survived', axis=1)\n",
    "y_train = train_post.Survived\n",
    "X_test = test_post.drop('Survived', axis=1)"
   ]
  },
  {
   "cell_type": "markdown",
   "metadata": {},
   "source": [
    "# 5. Algorithm\n",
    "\n",
    "We have a classification problem with potentially non-linear decision boundaries and numeric features contain some extreme values. A random forest looks like a sensible algorithm choice in this case.\n",
    "\n",
    "## 5.1. Hyperparameter tuning\n",
    "We create a wide grid of the most relevant hyperparameters and use randomized search stratified k-fold cross validation to find the order of magnitudes for each of them:"
   ]
  },
  {
   "cell_type": "code",
   "execution_count": 35,
   "metadata": {},
   "outputs": [
    {
     "name": "stdout",
     "output_type": "stream",
     "text": [
      "{'bootstrap': [True, False],\n",
      " 'max_depth': [10, 20, 30, 40, 50, 60, 70, 80, 90, 100, 110, None],\n",
      " 'max_features': ['auto', 'sqrt'],\n",
      " 'min_samples_leaf': [1, 2, 4],\n",
      " 'min_samples_split': [2, 5, 10],\n",
      " 'n_estimators': [10, 64, 118, 173, 227, 282, 336, 391, 445, 500]}\n"
     ]
    }
   ],
   "source": [
    "n_estimators = [int(x) for x in np.linspace(start = 10, stop = 500, num = 10)] # num. of trees\n",
    "max_features = ['auto', 'sqrt'] # num. of features for every split\n",
    "max_depth = [int(x) for x in np.linspace(10, 110, num = 11)] # max. levels in the tree\n",
    "max_depth.append(None)\n",
    "min_samples_split = [2, 5, 10] # min. samples to split a node\n",
    "min_samples_leaf = [1, 2, 4] # min. samples to be a leaf node\n",
    "bootstrap = [True, False] # sample selection for each tree\n",
    "\n",
    "random_grid = {'n_estimators': n_estimators,\n",
    "               'max_features': max_features,\n",
    "               'max_depth': max_depth,\n",
    "               'min_samples_split': min_samples_split,\n",
    "               'min_samples_leaf': min_samples_leaf,\n",
    "               'bootstrap': bootstrap}\n",
    "pp(random_grid)"
   ]
  },
  {
   "cell_type": "code",
   "execution_count": 36,
   "metadata": {},
   "outputs": [
    {
     "name": "stdout",
     "output_type": "stream",
     "text": [
      "{'bootstrap': False,\n",
      " 'max_depth': 30,\n",
      " 'max_features': 'auto',\n",
      " 'min_samples_leaf': 4,\n",
      " 'min_samples_split': 5,\n",
      " 'n_estimators': 64}\n"
     ]
    }
   ],
   "source": [
    "rf = RandomForestClassifier()\n",
    "kfold = StratifiedKFold(n_splits=10, shuffle=True, random_state=123456)\n",
    "rnd_search = RandomizedSearchCV(estimator=rf, \n",
    "                               param_distributions=random_grid,\n",
    "                               cv=kfold,\n",
    "                               n_iter=100,\n",
    "                               random_state=123456,\n",
    "                               n_jobs=-1)\n",
    "rnd_search.fit(X_train, y_train)\n",
    "pp(rnd_search.best_params_)"
   ]
  },
  {
   "cell_type": "markdown",
   "metadata": {},
   "source": [
    "Based on the best random parameters, we refine them by looking at narrower ranges around these with grid search cross validation:"
   ]
  },
  {
   "cell_type": "code",
   "execution_count": 37,
   "metadata": {},
   "outputs": [
    {
     "name": "stdout",
     "output_type": "stream",
     "text": [
      "{'max_depth': 98, 'n_estimators': 300}\n"
     ]
    }
   ],
   "source": [
    "rf_rnd = RandomForestClassifier(**rnd_search.best_params_) # create a random forest with the previous best parameters\n",
    "grid_params= {'n_estimators': [int(x) for x in np.linspace(100, 500, num = 11)],\n",
    "              'max_depth' : [int(x) for x in np.linspace(50, 110, num = 11)]} # grid of params to refine\n",
    "\n",
    "grid_search = GridSearchCV(estimator=rf_rnd,\n",
    "                       param_grid=grid_params,\n",
    "                       cv=kfold,\n",
    "                       n_jobs=-1)\n",
    "grid_search.fit(X_train, y_train)\n",
    "\n",
    "rf_final = grid_search.best_estimator_\n",
    "pp(grid_search.best_params_)"
   ]
  },
  {
   "cell_type": "markdown",
   "metadata": {},
   "source": [
    "## 5.2 Learning curves"
   ]
  },
  {
   "cell_type": "code",
   "execution_count": 38,
   "metadata": {},
   "outputs": [
    {
     "data": {
      "image/png": "[encoded data removed]",
      "text/plain": [
       "<Figure size 432x432 with 1 Axes>"
      ]
     },
     "metadata": {
      "needs_background": "light"
     },
     "output_type": "display_data"
    }
   ],
   "source": [
    "def plot_learning_curve(estimator, title, X, y, cv=None, n_jobs=None, \n",
    "                        train_sizes=np.linspace(.1, 1.0, 5)): # simplified from https://scikit-learn.org/stable/auto_examples/model_selection/plot_learning_curve.html#sphx-glr-auto-examples-model-selection-plot-learning-curve-py\n",
    "    \n",
    "    plt.figure(figsize=(6,6))\n",
    "    plt.title(title)\n",
    "    plt.xlabel(\"Training examples\")\n",
    "    plt.ylabel(\"Score\")\n",
    "\n",
    "    train_sizes, train_scores, test_scores, fit_times, _ = \\\n",
    "        learning_curve(estimator, X, y, cv=cv, n_jobs=n_jobs,\n",
    "                       train_sizes=train_sizes,\n",
    "                       return_times=True)\n",
    "    train_scores_mean = np.mean(train_scores, axis=1)\n",
    "    train_scores_std = np.std(train_scores, axis=1)\n",
    "    test_scores_mean = np.mean(test_scores, axis=1)\n",
    "    test_scores_std = np.std(test_scores, axis=1)\n",
    "    fit_times_mean = np.mean(fit_times, axis=1)\n",
    "    fit_times_std = np.std(fit_times, axis=1)\n",
    "\n",
    "    # Plot learning curve\n",
    "    plt.grid()\n",
    "    plt.fill_between(train_sizes, train_scores_mean - train_scores_std,\n",
    "                         train_scores_mean + train_scores_std, alpha=0.1,\n",
    "                         color=\"r\")\n",
    "    plt.fill_between(train_sizes, test_scores_mean - test_scores_std,\n",
    "                         test_scores_mean + test_scores_std, alpha=0.1,\n",
    "                         color=\"g\")\n",
    "    plt.plot(train_sizes, train_scores_mean, 'o-', color=\"r\",\n",
    "                 label=\"Training score\")\n",
    "    plt.plot(train_sizes, test_scores_mean, 'o-', color=\"g\",\n",
    "                 label=\"Cross-validation score\")\n",
    "    plt.legend(loc=\"best\")\n",
    "\n",
    "    return plt\n",
    "\n",
    "plot_learning_curve(rf_final, 'Learning curves', X_train, y_train, kfold, -1)\n",
    "plt.show()"
   ]
  },
  {
   "cell_type": "markdown",
   "metadata": {},
   "source": [
    "CV and training curves started to converge, but there is still a gap between them and training curve seemed to plateau (even increase). So, our model is suffering from high variance rather than high bias and would benefit from more data or simplifications."
   ]
  },
  {
   "cell_type": "markdown",
   "metadata": {},
   "source": [
    "## 5.3 Feature importance"
   ]
  },
  {
   "cell_type": "code",
   "execution_count": 39,
   "metadata": {
    "scrolled": false
   },
   "outputs": [
    {
     "data": {
      "text/plain": [
       "<matplotlib.axes._subplots.AxesSubplot at 0x265ec995308>"
      ]
     },
     "execution_count": 39,
     "metadata": {},
     "output_type": "execute_result"
    },
    {
     "data": {
      "image/png": "[encoded data removed]",
      "text/plain": [
       "<Figure size 720x576 with 1 Axes>"
      ]
     },
     "metadata": {
      "needs_background": "light"
     },
     "output_type": "display_data"
    }
   ],
   "source": [
    "feat_importances = pd.Series(rf_final.feature_importances_, index=X_train.columns, ).sort_values(ascending=False)\n",
    "plt.figure(figsize=(10,8))\n",
    "sns.barplot(x=feat_importances.values, y=feat_importances.index)"
   ]
  },
  {
   "cell_type": "markdown",
   "metadata": {},
   "source": [
    "## 5.4 Predictions and submission"
   ]
  },
  {
   "cell_type": "code",
   "execution_count": 40,
   "metadata": {},
   "outputs": [],
   "source": [
    "y_pred = rf_final.predict(X_test)\n",
    "output = pd.DataFrame({'PassengerId': test.PassengerId, \n",
    "                       'Survived':y_pred})\n",
    "output.to_csv('RandomForest_Final.csv', index=False)"
   ]
  }
 ],
 "metadata": {
  "kernelspec": {
   "display_name": "Python 3",
   "language": "python",
   "name": "python3"
  },
  "language_info": {
   "codemirror_mode": {
    "name": "ipython",
    "version": 3
   },
   "file_extension": ".py",
   "mimetype": "text/x-python",
   "name": "python",
   "nbconvert_exporter": "python",
   "pygments_lexer": "ipython3",
   "version": "3.7.6"
  }
 },
 "nbformat": 4,
 "nbformat_minor": 4
}
